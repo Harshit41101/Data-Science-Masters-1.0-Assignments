{
 "cells": [
  {
   "cell_type": "code",
   "execution_count": 1,
   "id": "b13be427-3770-4c4f-acbd-3ae39f9c2ead",
   "metadata": {},
   "outputs": [
    {
     "name": "stdout",
     "output_type": "stream",
     "text": [
      "1\n",
      "2\n",
      "3\n",
      "4\n",
      "5\n",
      "1\n",
      "2\n",
      "3\n",
      "4\n",
      "5\n"
     ]
    }
   ],
   "source": [
    "# Q1. Explain with an example each when to use a for loop and a while loop.\n",
    "\n",
    "# For Loop: Use a for loop when you know in advance how many times you need to iterate. It is ideal for iterating over sequences like lists, tuples, strings, or ranges.\n",
    "\n",
    "# Example: Suppose you want to print numbers from 1 to 5.\n",
    "for i in range(1, 6):\n",
    "    print(i)\n",
    "\n",
    "# While Loop: Use a while loop when the number of iterations is not known beforehand, and the loop should continue running as long as a certain condition is true.\n",
    "\n",
    "# Example: Suppose you want to print numbers from 1 to 5, but you want to stop if a certain condition is met.\n",
    "i = 1\n",
    "while i <= 5:\n",
    "    print(i)\n",
    "    i += 1"
   ]
  },
  {
   "cell_type": "code",
   "execution_count": 3,
   "id": "c20a5cd9-1da8-4b15-9c2b-1962d27ad9a8",
   "metadata": {},
   "outputs": [
    {
     "name": "stdout",
     "output_type": "stream",
     "text": [
      "Sum using for loop: 55\n",
      "Product using for loop: 3628800\n"
     ]
    }
   ],
   "source": [
    "# Q2. Write a Python program to print the sum and product of the first 10 natural numbers using for and while loop.\n",
    "\n",
    "# Using for loop:\n",
    "sum_natural = 0\n",
    "product_natural = 1\n",
    "\n",
    "for i in range(1, 11):\n",
    "    sum_natural += i\n",
    "    product_natural *= i\n",
    "\n",
    "print(f\"Sum using for loop: {sum_natural}\")\n",
    "print(f\"Product using for loop: {product_natural}\")"
   ]
  },
  {
   "cell_type": "code",
   "execution_count": 4,
   "id": "1b5bacf1-16ae-403d-870e-6cbe5fc9712a",
   "metadata": {},
   "outputs": [
    {
     "name": "stdout",
     "output_type": "stream",
     "text": [
      "Sum using while loop: 55\n",
      "Product using while loop: 3628800\n"
     ]
    }
   ],
   "source": [
    "# Using while loop\n",
    "sum_natural = 0\n",
    "product_natural = 1\n",
    "i = 1\n",
    "\n",
    "while i <= 10:\n",
    "    sum_natural += i\n",
    "    product_natural *= i\n",
    "    i += 1\n",
    "\n",
    "print(f\"Sum using while loop: {sum_natural}\")\n",
    "print(f\"Product using while loop: {product_natural}\")"
   ]
  },
  {
   "cell_type": "code",
   "execution_count": 10,
   "id": "d4be5a6e-e5b6-416d-9689-ca98175c1698",
   "metadata": {},
   "outputs": [
    {
     "name": "stdout",
     "output_type": "stream",
     "text": [
      "Total electricity bill for 310 units: Rs. 2250.0\n"
     ]
    }
   ],
   "source": [
    "# Q3. Create a Python program to compute the electricity bill for a household.\n",
    "# Function to compute the electricity bill\n",
    "def compute_electricity_bill(units):\n",
    "    if units <= 100:\n",
    "        bill = units * 4.5\n",
    "    elif units <= 200:\n",
    "        bill = 100 * 4.5 + (units - 100) * 6\n",
    "    elif units <= 300:\n",
    "        bill = 100 * 4.5 + 100 * 6 + (units - 200) * 10\n",
    "    else:\n",
    "        bill = 100 * 4.5 + 100 * 6 + 100 * 10 + (units - 300) * 20\n",
    "\n",
    "    return bill\n",
    "\n",
    "# Example usage\n",
    "units_consumed = 310\n",
    "total_bill = compute_electricity_bill(units_consumed)\n",
    "print(f\"Total electricity bill for {units_consumed} units: Rs. {total_bill}\")"
   ]
  },
  {
   "cell_type": "code",
   "execution_count": 11,
   "id": "d8bd2419-ebe5-45ab-93f2-a5dd05bfeeae",
   "metadata": {},
   "outputs": [
    {
     "name": "stdout",
     "output_type": "stream",
     "text": [
      "Numbers whose cube is divisible by 4 or 5: [2, 4, 5, 6, 8, 10, 12, 14, 15, 16, 18, 20, 22, 24, 25, 26, 28, 30, 32, 34, 35, 36, 38, 40, 42, 44, 45, 46, 48, 50, 52, 54, 55, 56, 58, 60, 62, 64, 65, 66, 68, 70, 72, 74, 75, 76, 78, 80, 82, 84, 85, 86, 88, 90, 92, 94, 95, 96, 98, 100]\n"
     ]
    }
   ],
   "source": [
    "# Q4. Create a list of numbers from 1 to 100 and calculate the cube of each number. If the cube is divisible by 4 or 5, append that number to a list and print it.\n",
    "# Using for loop:\n",
    "numbers = list(range(1, 101))\n",
    "divisible_by_4_or_5 = []\n",
    "\n",
    "for num in numbers:\n",
    "    cube = num ** 3\n",
    "    if cube % 4 == 0 or cube % 5 == 0:\n",
    "        divisible_by_4_or_5.append(num)\n",
    "\n",
    "print(f\"Numbers whose cube is divisible by 4 or 5: {divisible_by_4_or_5}\")\n"
   ]
  },
  {
   "cell_type": "code",
   "execution_count": 12,
   "id": "6e361ebe-eb10-4a35-aa09-6cb0a72fd845",
   "metadata": {},
   "outputs": [
    {
     "name": "stdout",
     "output_type": "stream",
     "text": [
      "Numbers whose cube is divisible by 4 or 5: [2, 4, 5, 6, 8, 10, 12, 14, 15, 16, 18, 20, 22, 24, 25, 26, 28, 30, 32, 34, 35, 36, 38, 40, 42, 44, 45, 46, 48, 50, 52, 54, 55, 56, 58, 60, 62, 64, 65, 66, 68, 70, 72, 74, 75, 76, 78, 80, 82, 84, 85, 86, 88, 90, 92, 94, 95, 96, 98, 100]\n"
     ]
    }
   ],
   "source": [
    "# Using while loop:\n",
    "numbers = list(range(1, 101))\n",
    "divisible_by_4_or_5 = []\n",
    "i = 0\n",
    "\n",
    "while i < len(numbers):\n",
    "    cube = numbers[i] ** 3\n",
    "    if cube % 4 == 0 or cube % 5 == 0:\n",
    "        divisible_by_4_or_5.append(numbers[i])\n",
    "    i += 1\n",
    "\n",
    "print(f\"Numbers whose cube is divisible by 4 or 5: {divisible_by_4_or_5}\")"
   ]
  },
  {
   "cell_type": "code",
   "execution_count": 13,
   "id": "864cfcc0-d7b1-4103-8cef-b943783041ac",
   "metadata": {},
   "outputs": [],
   "source": [
    "# Q5. Write a program to filter and count vowels in the given string."
   ]
  },
  {
   "cell_type": "code",
   "execution_count": 14,
   "id": "bb5da5fa-b30c-4b47-9426-14fc84f75833",
   "metadata": {},
   "outputs": [
    {
     "name": "stdout",
     "output_type": "stream",
     "text": [
      "Vowel counts: {'I': 1, 'a': 4, 'o': 2, 'e': 3, 'i': 2}\n"
     ]
    }
   ],
   "source": [
    "string = \"I want to become a data scientist\"\n",
    "vowels = \"aeiouAEIOU\"\n",
    "vowel_count = {}\n",
    "\n",
    "for char in string:\n",
    "    if char in vowels:\n",
    "        if char in vowel_count:\n",
    "            vowel_count[char] += 1\n",
    "        else:\n",
    "            vowel_count[char] = 1\n",
    "\n",
    "print(\"Vowel counts:\", vowel_count)\n"
   ]
  }
 ],
 "metadata": {
  "kernelspec": {
   "display_name": "Python 3 (ipykernel)",
   "language": "python",
   "name": "python3"
  },
  "language_info": {
   "codemirror_mode": {
    "name": "ipython",
    "version": 3
   },
   "file_extension": ".py",
   "mimetype": "text/x-python",
   "name": "python",
   "nbconvert_exporter": "python",
   "pygments_lexer": "ipython3",
   "version": "3.10.8"
  }
 },
 "nbformat": 4,
 "nbformat_minor": 5
}
