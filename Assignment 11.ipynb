{
 "cells": [
  {
   "cell_type": "code",
   "execution_count": 1,
   "id": "e249d4b6-b878-4dee-8cde-17823b51f759",
   "metadata": {},
   "outputs": [
    {
     "name": "stdout",
     "output_type": "stream",
     "text": [
      "Bike\n",
      "120\n",
      "45\n"
     ]
    }
   ],
   "source": [
    "# Q1. Create a Vehicle class with __init__ method having instance variables as name_of_vehicle, max_speed, and average_of_vehicle.\n",
    "\n",
    "class Vehicle:\n",
    "    def __init__(self, name_of_vehicle, max_speed, average_of_vehicle):\n",
    "        self.name_of_vehicle = name_of_vehicle\n",
    "        self.max_speed = max_speed\n",
    "        self.average_of_vehicle = average_of_vehicle\n",
    "\n",
    "# Example usage\n",
    "vehicle = Vehicle(\"Bike\", 120, 45)\n",
    "print(vehicle.name_of_vehicle)  # Output: Bike\n",
    "print(vehicle.max_speed)        # Output: 120\n",
    "print(vehicle.average_of_vehicle) # Output: 45"
   ]
  },
  {
   "cell_type": "code",
   "execution_count": 2,
   "id": "ed2c1467-b917-41aa-b49d-3d2b6f7d93ed",
   "metadata": {},
   "outputs": [
    {
     "name": "stdout",
     "output_type": "stream",
     "text": [
      "The Sedan has a seating capacity of 5 passengers.\n"
     ]
    }
   ],
   "source": [
    "# Q2. Create a child class Car from the Vehicle class created in Q1, which will inherit the Vehicle class. Create a method named seating_capacity which takes capacity as an argument and returns the name of the vehicle and its seating capacity.\n",
    "class Car(Vehicle):\n",
    "    def seating_capacity(self, capacity):\n",
    "        return f\"The {self.name_of_vehicle} has a seating capacity of {capacity} passengers.\"\n",
    "\n",
    "# Example usage\n",
    "car = Car(\"Sedan\", 180, 15)\n",
    "print(car.seating_capacity(5))  # Output: The Sedan has a seating capacity of 5 passengers.\n"
   ]
  },
  {
   "cell_type": "code",
   "execution_count": 5,
   "id": "70bada72-b49e-4e00-8dee-29aad8de1d87",
   "metadata": {},
   "outputs": [
    {
     "name": "stdout",
     "output_type": "stream",
     "text": [
      "Father's skill: Carpentry\n"
     ]
    }
   ],
   "source": [
    "# Q3. What is multiple inheritance? Write a Python code to demonstrate multiple inheritance.\n",
    "\n",
    "# Multiple Inheritance occurs when a class is derived from more than one base class. The derived class inherits features from all base classes.\n",
    "class Father:\n",
    "    def skill(self):\n",
    "        return \"Father's skill: Carpentry\"\n",
    "\n",
    "class Mother:\n",
    "    def skill(self):\n",
    "        return \"Mother's skill: Cooking\"\n",
    "\n",
    "class Child(Father, Mother):\n",
    "    def skills(self):\n",
    "        return [super(Father, self).skill(), super(Mother, self).skill()]\n",
    "\n",
    "# Example usage\n",
    "child = Child()\n",
    "print(child.skill())  # Output: [\"Father's skill: Carpentry\", \"Mother's skill: Cooking\"]\n",
    "# In this example, Child class inherits from both Father and Mother classes, demonstrating multiple inheritance."
   ]
  },
  {
   "cell_type": "code",
   "execution_count": 8,
   "id": "77aaf434-ef5c-404b-9a6c-06cf27389256",
   "metadata": {},
   "outputs": [
    {
     "name": "stdout",
     "output_type": "stream",
     "text": [
      "Alice\n",
      "20\n",
      "Bob\n",
      "25\n"
     ]
    }
   ],
   "source": [
    "# Q4. What are getters and setters in Python? Create a class and create a getter and a setter method in this class.\n",
    "# Getters and setters are methods that allow controlled access to instance variables in a class. They help in encapsulation by hiding the internal representation of data and providing a controlled way to access or modify it.\n",
    "class Student:\n",
    "    def __init__(self, name, age):\n",
    "        self._name = name\n",
    "        self._age = age\n",
    "\n",
    "    # Getter method\n",
    "    @property\n",
    "    def name(self):\n",
    "        return self._name\n",
    "\n",
    "    # Setter method\n",
    "    @name.setter\n",
    "    def name(self, value):\n",
    "        if isinstance(value, str):\n",
    "            self._name = value\n",
    "        else:\n",
    "            raise ValueError(\"Name must be a string.\")\n",
    "\n",
    "    # Getter method\n",
    "    @property\n",
    "    def age(self):\n",
    "        return self._age\n",
    "\n",
    "    # Setter method\n",
    "    @age.setter\n",
    "    def age(self, value):\n",
    "        if isinstance(value, int) and value > 0:\n",
    "            self._age = value\n",
    "        else:\n",
    "            raise ValueError(\"Age must be a positive integer.\")\n",
    "\n",
    "# Example usage\n",
    "student = Student(\"Alice\", 20)\n",
    "print(student.name)  # Output: Alice\n",
    "print(student.age)   # Output: 20\n",
    "\n",
    "student.name = \"Bob\"  # Using setter method\n",
    "print(student.name)   # Output: Bob\n",
    "\n",
    "student.age = 25     # Using setter method\n",
    "print(student.age)   # Output: 25\n",
    "# In this example, the Student class has private attributes _name and _age. The @property decorator is used to define getter methods, and @<property>.setter is used for setter methods."
   ]
  },
  {
   "cell_type": "code",
   "execution_count": null,
   "id": "7b8d7685-2ba0-4296-ac22-d9b7dba242d4",
   "metadata": {},
   "outputs": [],
   "source": [
    "# Q5. What is method overriding in Python? Write a Python code to demonstrate method overriding.\n",
    "# Method overriding occurs when a subclass provides a specific implementation for a method that is already defined in its superclass. The subclass's method overrides the superclass's method.\n",
    "\n",
    "# Example:\n"
   ]
  }
 ],
 "metadata": {
  "kernelspec": {
   "display_name": "Python 3 (ipykernel)",
   "language": "python",
   "name": "python3"
  },
  "language_info": {
   "codemirror_mode": {
    "name": "ipython",
    "version": 3
   },
   "file_extension": ".py",
   "mimetype": "text/x-python",
   "name": "python",
   "nbconvert_exporter": "python",
   "pygments_lexer": "ipython3",
   "version": "3.10.8"
  }
 },
 "nbformat": 4,
 "nbformat_minor": 5
}
