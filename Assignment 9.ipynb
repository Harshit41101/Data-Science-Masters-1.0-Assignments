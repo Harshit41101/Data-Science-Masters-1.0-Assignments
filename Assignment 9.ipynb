{
 "cells": [
  {
   "cell_type": "code",
   "execution_count": 1,
   "id": "253b5d5d-8d9b-440a-9ec8-72a77aa3a6d5",
   "metadata": {},
   "outputs": [
    {
     "name": "stdout",
     "output_type": "stream",
     "text": [
      "Valid Password\n"
     ]
    }
   ],
   "source": [
    "# Q1. Password Validation Function\n",
    "# We'll create a function that checks whether a given password meets the specified criteria.\n",
    "import re\n",
    "\n",
    "def validate_password(password):\n",
    "    # Check if the password has at least 10 characters\n",
    "    if len(password) != 10:\n",
    "        return \"Invalid Password\"\n",
    "    \n",
    "    # Check for at least two uppercase letters\n",
    "    if len(re.findall(r'[A-Z]', password)) < 2:\n",
    "        return \"Invalid Password\"\n",
    "    \n",
    "    # Check for at least two lowercase letters\n",
    "    if len(re.findall(r'[a-z]', password)) < 2:\n",
    "        return \"Invalid Password\"\n",
    "    \n",
    "    # Check for at least one number\n",
    "    if len(re.findall(r'\\d', password)) < 1:\n",
    "        return \"Invalid Password\"\n",
    "    \n",
    "    # Check for at least three special characters\n",
    "    if len(re.findall(r'[!@#$%^&*(),.?\":{}|<>]', password)) < 3:\n",
    "        return \"Invalid Password\"\n",
    "    \n",
    "    return \"Valid Password\"\n",
    "\n",
    "# Example usage\n",
    "password = \"Aa1!@#xyzZ\"\n",
    "print(validate_password(password))\n"
   ]
  },
  {
   "cell_type": "code",
   "execution_count": 2,
   "id": "a3ace366-5e90-4f61-b18d-d4e11fa64454",
   "metadata": {},
   "outputs": [
    {
     "name": "stdout",
     "output_type": "stream",
     "text": [
      "True\n"
     ]
    }
   ],
   "source": [
    "# Q2. Solving Problems Using Lambda, Filter, Zip, and List Comprehension\n",
    "# Let's solve each sub-question:\n",
    "\n",
    "# A. Check if the string starts with a particular letter\n",
    "# Using lambda function\n",
    "starts_with = lambda s, letter: s.startswith(letter)\n",
    "\n",
    "# Example usage\n",
    "print(starts_with(\"apple\", \"a\"))  # Output: True"
   ]
  },
  {
   "cell_type": "code",
   "execution_count": 3,
   "id": "f1d59e25-18dd-4e33-a631-f999b7f5437b",
   "metadata": {},
   "outputs": [
    {
     "name": "stdout",
     "output_type": "stream",
     "text": [
      "True\n",
      "False\n"
     ]
    }
   ],
   "source": [
    "# B. Check if the string is numeric\n",
    "# Using lambda function\n",
    "is_numeric = lambda s: s.isdigit()\n",
    "\n",
    "# Example usage\n",
    "print(is_numeric(\"12345\"))  # Output: True\n",
    "print(is_numeric(\"123a45\"))  # Output: False\n"
   ]
  },
  {
   "cell_type": "code",
   "execution_count": 4,
   "id": "48ece240-70c7-41a8-b53d-6c623e8288d2",
   "metadata": {},
   "outputs": [
    {
     "name": "stdout",
     "output_type": "stream",
     "text": [
      "[('orange', 80), ('mango', 99), ('grapes', 1000)]\n"
     ]
    }
   ],
   "source": [
    "# C. Sort a list of tuples having fruit names and their quantity\n",
    "fruits = [(\"mango\", 99), (\"orange\", 80), (\"grapes\", 1000)]\n",
    "\n",
    "# Using sorted with lambda function\n",
    "sorted_fruits = sorted(fruits, key=lambda x: x[1])\n",
    "\n",
    "print(sorted_fruits)"
   ]
  },
  {
   "cell_type": "code",
   "execution_count": 5,
   "id": "5fcd7519-e27c-44c6-b0fe-c33a5e13004b",
   "metadata": {},
   "outputs": [
    {
     "name": "stdout",
     "output_type": "stream",
     "text": [
      "[1, 4, 9, 16, 25, 36, 49, 64, 81, 100]\n"
     ]
    }
   ],
   "source": [
    "# D. Find the squares of numbers from 1 to 10\n",
    "# Using list comprehension\n",
    "squares = [x**2 for x in range(1, 11)]\n",
    "\n",
    "print(squares)"
   ]
  },
  {
   "cell_type": "code",
   "execution_count": 6,
   "id": "1ed75c20-f724-43d8-ad31-6ed49c59f278",
   "metadata": {},
   "outputs": [
    {
     "name": "stdout",
     "output_type": "stream",
     "text": [
      "[1.0, 1.2599210498948732, 1.4422495703074083, 1.5874010519681994, 1.7099759466766968, 1.8171205928321397, 1.912931182772389, 2.0, 2.080083823051904, 2.154434690031884]\n"
     ]
    }
   ],
   "source": [
    "# E. Find the cube root of numbers from 1 to 10\n",
    "# Using list comprehension\n",
    "cube_roots = [x**(1/3) for x in range(1, 11)]\n",
    "\n",
    "print(cube_roots)"
   ]
  },
  {
   "cell_type": "code",
   "execution_count": null,
   "id": "0e17c3b4-6c75-4551-9e99-7db537ff0ba1",
   "metadata": {},
   "outputs": [],
   "source": [
    "# F. Check if a given number is even\n"
   ]
  }
 ],
 "metadata": {
  "kernelspec": {
   "display_name": "Python 3 (ipykernel)",
   "language": "python",
   "name": "python3"
  },
  "language_info": {
   "codemirror_mode": {
    "name": "ipython",
    "version": 3
   },
   "file_extension": ".py",
   "mimetype": "text/x-python",
   "name": "python",
   "nbconvert_exporter": "python",
   "pygments_lexer": "ipython3",
   "version": "3.10.8"
  }
 },
 "nbformat": 4,
 "nbformat_minor": 5
}
