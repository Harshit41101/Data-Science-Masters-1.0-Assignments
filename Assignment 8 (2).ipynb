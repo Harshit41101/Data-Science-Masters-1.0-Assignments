{
 "cells": [
  {
   "cell_type": "code",
   "execution_count": 1,
   "id": "7004650d-bf35-48fd-b95a-039b37bcaf96",
   "metadata": {},
   "outputs": [
    {
     "name": "stdout",
     "output_type": "stream",
     "text": [
      "Product of all numbers: 4134711838987085478833841242112000\n"
     ]
    }
   ],
   "source": [
    "# Q1. Create a function to return the product of all the numbers after creating a flat list.\n",
    "# Given list:\n",
    "list1 = [1, 2, 3, 4, [44, 55, 66, True], False, (34, 56, 78, 89, 34), {1, 2, 3, 3, 2, 1}, \n",
    "         {1: 34, \"key2\": [55, 67, 78, 89], 4: (45, 22, 61, 34)}, [56, 'data science'], 'Machine Learning']\n",
    "# Function to calculate the product:\n",
    "from collections.abc import Iterable\n",
    "\n",
    "def flatten_and_multiply(lst):\n",
    "    flat_list = []\n",
    "\n",
    "    def flatten(item):\n",
    "        if isinstance(item, Iterable) and not isinstance(item, (str, bytes)):\n",
    "            for sub_item in item:\n",
    "                flatten(sub_item)\n",
    "        elif isinstance(item, (int, float)) and not isinstance(item, bool):\n",
    "            flat_list.append(item)\n",
    "\n",
    "    for element in lst:\n",
    "        if isinstance(element, dict):\n",
    "            for key, value in element.items():\n",
    "                if isinstance(key, (int, float)):\n",
    "                    flat_list.append(key)\n",
    "                flatten(value)\n",
    "        else:\n",
    "            flatten(element)\n",
    "\n",
    "    product = 1\n",
    "    for num in flat_list:\n",
    "        product *= num\n",
    "\n",
    "    return product\n",
    "\n",
    "# Example usage\n",
    "list1 = [1, 2, 3, 4, [44, 55, 66, True], False, (34, 56, 78, 89, 34), {1, 2, 3, 3, 2, 1}, \n",
    "         {1: 34, \"key2\": [55, 67, 78, 89], 4: (45, 22, 61, 34)}, [56, 'data science'], 'Machine Learning']\n",
    "\n",
    "result = flatten_and_multiply(list1)\n",
    "print(f\"Product of all numbers: {result}\")"
   ]
  },
  {
   "cell_type": "code",
   "execution_count": 2,
   "id": "c6412307-939a-48e5-9b2c-b43e4a967a2c",
   "metadata": {},
   "outputs": [
    {
     "name": "stdout",
     "output_type": "stream",
     "text": [
      "Encrypted message: r$dzmg$gl$yvxlnv$z$wzgz$hxrvmgrhg.\n"
     ]
    }
   ],
   "source": [
    "# Q2. Write a Python program for encrypting a message.\n",
    "# Encryption logic:\n",
    "\n",
    "# For each letter, substitute it with its reverse in the alphabet (a -> z, b -> y, etc.).\n",
    "# Replace spaces with a dollar sign ($).\n",
    "# Keep punctuation marks unchanged.\n",
    "\n",
    "# Encryption function:\n",
    "def encrypt_message(message):\n",
    "    # Create a mapping of each letter to its reverse in the alphabet\n",
    "    alphabet = 'abcdefghijklmnopqrstuvwxyz'\n",
    "    reversed_alphabet = alphabet[::-1]\n",
    "    mapping = str.maketrans(alphabet, reversed_alphabet)\n",
    "    \n",
    "    # Replace spaces with a dollar sign\n",
    "    message = message.lower().replace(' ', '$')\n",
    "    \n",
    "    # Encrypt the message\n",
    "    encrypted_message = message.translate(mapping)\n",
    "    \n",
    "    return encrypted_message\n",
    "\n",
    "# Example usage\n",
    "input_sentence = \"I want to become a Data Scientist.\"\n",
    "encrypted_sentence = encrypt_message(input_sentence)\n",
    "print(f\"Encrypted message: {encrypted_sentence}\")"
   ]
  },
  {
   "cell_type": "code",
   "execution_count": null,
   "id": "69300e96-51d2-4369-837e-bf3a8f3aa2d7",
   "metadata": {},
   "outputs": [],
   "source": []
  }
 ],
 "metadata": {
  "kernelspec": {
   "display_name": "Python 3 (ipykernel)",
   "language": "python",
   "name": "python3"
  },
  "language_info": {
   "codemirror_mode": {
    "name": "ipython",
    "version": 3
   },
   "file_extension": ".py",
   "mimetype": "text/x-python",
   "name": "python",
   "nbconvert_exporter": "python",
   "pygments_lexer": "ipython3",
   "version": "3.10.8"
  }
 },
 "nbformat": 4,
 "nbformat_minor": 5
}
