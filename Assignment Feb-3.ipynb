{
 "cells": [
  {
   "cell_type": "code",
   "execution_count": 1,
   "id": "d0003b18-61da-49b5-a6d0-75ad26e0a5fa",
   "metadata": {},
   "outputs": [
    {
     "name": "stdout",
     "output_type": "stream",
     "text": [
      "[1, 3, 5, 7, 9, 11, 13, 15, 17, 19, 21, 23, 25]\n"
     ]
    }
   ],
   "source": [
    "# Q1. Which keyword is used to create a function? Create a function to return a list of odd numbers in the range of 1 to 25.\n",
    "# The keyword used to create a function in Python is def\n",
    "\n",
    "# Function to return a list of odd numbers from 1 to 25:\n",
    "\n",
    "def get_odd_numbers():\n",
    "    odd_numbers = [num for num in range(1, 26) if num % 2 != 0]\n",
    "    return odd_numbers\n",
    "\n",
    "# Example usage\n",
    "odd_numbers_list = get_odd_numbers()\n",
    "print(odd_numbers_list)"
   ]
  },
  {
   "cell_type": "code",
   "execution_count": 2,
   "id": "06ae24ca-3724-4270-8898-f0e604a3ef06",
   "metadata": {},
   "outputs": [
    {
     "name": "stdout",
     "output_type": "stream",
     "text": [
      "Sum using *args: 15\n"
     ]
    }
   ],
   "source": [
    "# Q2. Why *args and **kwargs are used in some functions? Create a function each for *args and **kwargs to demonstrate their use.\n",
    "# *args is used to pass a variable number of non-keyword arguments to a function. It allows you to pass any number of arguments to a function.\n",
    "\n",
    "# **kwargs is used to pass a variable number of keyword arguments to a function. It allows you to pass a dictionary of key-value pairs.\n",
    "\n",
    "# Example with *args:\n",
    "def sum_numbers(*args):\n",
    "    return sum(args)\n",
    "\n",
    "# Example usage\n",
    "result = sum_numbers(1, 2, 3, 4, 5)\n",
    "print(f\"Sum using *args: {result}\")"
   ]
  },
  {
   "cell_type": "code",
   "execution_count": 3,
   "id": "c40aa713-51c6-4fcc-8c65-401279c975bf",
   "metadata": {},
   "outputs": [
    {
     "name": "stdout",
     "output_type": "stream",
     "text": [
      "name: Harshit\n",
      "age: 21\n",
      "course: B.Tech CSE\n"
     ]
    }
   ],
   "source": [
    "# Example with **kwargs:\n",
    "def print_info(**kwargs):\n",
    "    for key, value in kwargs.items():\n",
    "        print(f\"{key}: {value}\")\n",
    "\n",
    "# Example usage\n",
    "print_info(name=\"Harshit\", age=21, course=\"B.Tech CSE\")"
   ]
  },
  {
   "cell_type": "code",
   "execution_count": 4,
   "id": "a3c40e2a-48a5-491f-9002-3d84faa6c9dc",
   "metadata": {},
   "outputs": [
    {
     "name": "stdout",
     "output_type": "stream",
     "text": [
      "2\n",
      "4\n",
      "6\n",
      "8\n",
      "10\n"
     ]
    }
   ],
   "source": [
    "# Q3. What is an iterator in Python? Name the method used to initialize the iterator object and the method used for iteration. Use these methods to print the first five elements of the given list [2, 4, 6, 8, 10, 12, 14, 16, 18, 20].\n",
    "\n",
    "# An iterator is an object in Python that can be iterated (looped) upon, meaning you can traverse through all the values. \n",
    "# It implements the iterator protocol, which consists of two methods: __iter__() to initialize the iterator and __next__() to get the next item.\n",
    "# Given list\n",
    "numbers = [2, 4, 6, 8, 10, 12, 14, 16, 18, 20]\n",
    "\n",
    "# Creating an iterator\n",
    "iterator = iter(numbers)\n",
    "\n",
    "# Using a loop to get the first five elements\n",
    "for _ in range(5):\n",
    "    print(next(iterator))\n"
   ]
  },
  {
   "cell_type": "code",
   "execution_count": 5,
   "id": "ad127fd5-8e32-4a06-a685-5918526b4c71",
   "metadata": {},
   "outputs": [
    {
     "name": "stdout",
     "output_type": "stream",
     "text": [
      "5\n",
      "4\n",
      "3\n",
      "2\n",
      "1\n"
     ]
    }
   ],
   "source": [
    "# Q4. What is a generator function in Python? Why is the yield keyword used? Give an example of a generator function.\n",
    "\n",
    "# A generator function is a special type of function in Python that returns an iterator, called a generator, which produces a sequence of values \n",
    "# lazily (one at a time) and can be iterated over. The yield keyword is used instead of return to produce a value and pause the function, \n",
    "# keeping its state for when it resumes.\n",
    "\n",
    "# Example of a generator function:\n",
    "\n",
    "def countdown(n):\n",
    "    while n > 0:\n",
    "        yield n\n",
    "        n -= 1\n",
    "\n",
    "# Example usage\n",
    "for number in countdown(5):\n",
    "    print(number)"
   ]
  },
  {
   "cell_type": "code",
   "execution_count": 6,
   "id": "fce8ca49-fac6-4fc6-a75c-e0dbf94081a8",
   "metadata": {},
   "outputs": [
    {
     "name": "stdout",
     "output_type": "stream",
     "text": [
      "2\n",
      "3\n",
      "5\n",
      "7\n",
      "11\n",
      "13\n",
      "17\n",
      "19\n",
      "23\n",
      "29\n",
      "31\n",
      "37\n",
      "41\n",
      "43\n",
      "47\n",
      "53\n",
      "59\n",
      "61\n",
      "67\n",
      "71\n"
     ]
    }
   ],
   "source": [
    "# Q5. Create a generator function for prime numbers less than 1000. Use the next() method to print the first 20 prime numbers.\n",
    "\n",
    "# Generator function for prime numbers:\n",
    "def is_prime(n):\n",
    "    if n <= 1:\n",
    "        return False\n",
    "    for i in range(2, int(n**0.5) + 1):\n",
    "        if n % i == 0:\n",
    "            return False\n",
    "    return True\n",
    "\n",
    "def prime_numbers():\n",
    "    num = 2\n",
    "    while num < 1000:\n",
    "        if is_prime(num):\n",
    "            yield num\n",
    "        num += 1\n",
    "\n",
    "# Example usage\n",
    "prime_gen = prime_numbers()\n",
    "\n",
    "for _ in range(20):\n",
    "    print(next(prime_gen))"
   ]
  },
  {
   "cell_type": "code",
   "execution_count": 7,
   "id": "abf9af13-bcf0-46e8-9c63-1d7d75e95437",
   "metadata": {},
   "outputs": [
    {
     "name": "stdout",
     "output_type": "stream",
     "text": [
      "0\n",
      "1\n",
      "1\n",
      "2\n",
      "3\n",
      "5\n",
      "8\n",
      "13\n",
      "21\n",
      "34\n"
     ]
    }
   ],
   "source": [
    "# Q6. Write a Python program to print the first 10 Fibonacci numbers using a while loop.\n",
    "# Fibonacci series using while loop\n",
    "a, b = 0, 1\n",
    "count = 0\n",
    "\n",
    "while count < 10:\n",
    "    print(a)\n",
    "    a, b = b, a + b\n",
    "    count += 1"
   ]
  },
  {
   "cell_type": "code",
   "execution_count": 8,
   "id": "9fe25812-ee09-4dae-a3e2-47f9b2869173",
   "metadata": {},
   "outputs": [
    {
     "name": "stdout",
     "output_type": "stream",
     "text": [
      "['p', 'w', 's', 'k', 'i', 'l', 'l', 's']\n"
     ]
    }
   ],
   "source": [
    "# Q7. Write a List Comprehension to iterate through the given string: ‘pwskills’.\n",
    "\n",
    "# Expected output: ['p', 'w', 's', 'k', 'i', 'l', 'l', 's']\n",
    "string = \"pwskills\"\n",
    "output = [char for char in string if char in 'pwskills']\n",
    "print(output)"
   ]
  },
  {
   "cell_type": "code",
   "execution_count": 9,
   "id": "00a2c0cc-fb5a-46eb-9dcf-acb2b316ae22",
   "metadata": {},
   "outputs": [
    {
     "name": "stdout",
     "output_type": "stream",
     "text": [
      "Is 121 a palindrome? Yes\n"
     ]
    }
   ],
   "source": [
    "# Q8. Write a Python program to check whether a given number is Palindrome or not using a while loop.\n",
    "def is_palindrome(number):\n",
    "    original_num = number\n",
    "    reversed_num = 0\n",
    "\n",
    "    while number > 0:\n",
    "        digit = number % 10\n",
    "        reversed_num = reversed_num * 10 + digit\n",
    "        number = number // 10\n",
    "\n",
    "    return original_num == reversed_num\n",
    "\n",
    "# Example usage\n",
    "number = 121\n",
    "print(f\"Is {number} a palindrome? {'Yes' if is_palindrome(number) else 'No'}\")"
   ]
  },
  {
   "cell_type": "code",
   "execution_count": 10,
   "id": "ad94b812-9037-4403-9dae-bbd0171feded",
   "metadata": {},
   "outputs": [
    {
     "name": "stdout",
     "output_type": "stream",
     "text": [
      "[1, 3, 5, 7, 9, 11, 13, 15, 17, 19, 21, 23, 25, 27, 29, 31, 33, 35, 37, 39, 41, 43, 45, 47, 49, 51, 53, 55, 57, 59, 61, 63, 65, 67, 69, 71, 73, 75, 77, 79, 81, 83, 85, 87, 89, 91, 93, 95, 97, 99]\n"
     ]
    }
   ],
   "source": [
    "# Q9. Write a code to print odd numbers from 1 to 100 using list comprehension.\n",
    "# List comprehension to create a list from 1 to 100\n",
    "numbers = [num for num in range(1, 101)]\n",
    "\n",
    "# List comprehension to filter out odd numbers\n",
    "odd_numbers = [num for num in numbers if num % 2 != 0]\n",
    "\n",
    "print(odd_numbers)"
   ]
  }
 ],
 "metadata": {
  "kernelspec": {
   "display_name": "Python 3 (ipykernel)",
   "language": "python",
   "name": "python3"
  },
  "language_info": {
   "codemirror_mode": {
    "name": "ipython",
    "version": 3
   },
   "file_extension": ".py",
   "mimetype": "text/x-python",
   "name": "python",
   "nbconvert_exporter": "python",
   "pygments_lexer": "ipython3",
   "version": "3.10.8"
  }
 },
 "nbformat": 4,
 "nbformat_minor": 5
}
