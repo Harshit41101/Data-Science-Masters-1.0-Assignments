{
 "cells": [
  {
   "cell_type": "code",
   "execution_count": 1,
   "id": "4d2719b0-35e2-49d0-8dd1-03b9caa78bc1",
   "metadata": {},
   "outputs": [
    {
     "name": "stdout",
     "output_type": "stream",
     "text": [
      "Engine started.\n",
      "Driving the sports car.\n"
     ]
    }
   ],
   "source": [
    "# Q1. What is Abstraction in OOP? Explain with an example.\n",
    "# Abstraction in OOP is the concept of hiding the complex implementation details of a system and exposing only the necessary parts to the user. It allows a user to interact with the system without understanding the underlying complexities. The main goal is to reduce complexity and increase efficiency.\n",
    "\n",
    "# Example:\n",
    "\n",
    "# Consider a car. When you drive a car, you use the steering wheel, pedals, and gear shift, but you don't need to know how the engine works, how fuel is injected into the engine, or how the car's transmission system operates. This is abstraction in action—the complex details are hidden, and only the necessary interfaces (steering wheel, pedals, etc.) are provided to the user.\n",
    "\n",
    "# In Python, abstraction can be achieved using abstract classes and interfaces.\n",
    "from abc import ABC, abstractmethod\n",
    "\n",
    "class Car(ABC):\n",
    "    @abstractmethod\n",
    "    def start_engine(self):\n",
    "        pass\n",
    "    \n",
    "    @abstractmethod\n",
    "    def drive(self):\n",
    "        pass\n",
    "\n",
    "class SportsCar(Car):\n",
    "    def start_engine(self):\n",
    "        return \"Engine started.\"\n",
    "\n",
    "    def drive(self):\n",
    "        return \"Driving the sports car.\"\n",
    "\n",
    "# Example usage\n",
    "my_car = SportsCar()\n",
    "print(my_car.start_engine())  # Output: Engine started.\n",
    "print(my_car.drive())         # Output: Driving the sports car.\n"
   ]
  },
  {
   "cell_type": "code",
   "execution_count": 3,
   "id": "4f106769-a774-4b68-bc02-71bfb7924d85",
   "metadata": {},
   "outputs": [
    {
     "name": "stdout",
     "output_type": "stream",
     "text": [
      "1500\n",
      "Insufficient funds\n"
     ]
    }
   ],
   "source": [
    "# Q2. Differentiate between Abstraction and Encapsulation. Explain with an example.\n",
    "# Abstraction and Encapsulation are both fundamental OOP concepts, but they serve different purposes:\n",
    "\n",
    "# Abstraction:\n",
    "\n",
    "# Focuses on hiding the internal implementation details and showing only the necessary features of an object.\n",
    "# It is achieved through abstract classes and interfaces.\n",
    "# Example: In the earlier car example, the user interacts with the car without knowing the internal workings.\n",
    "# Encapsulation:\n",
    "\n",
    "# Refers to the bundling of data (attributes) and methods (functions) that operate on the data into a single unit or class, and restricting access to some of the object's components.\n",
    "# It is achieved by using access specifiers like private, protected, and public.\n",
    "# Example: A class representing a bank account encapsulates data like balance and methods like deposit and withdraw. Access to the balance attribute can be restricted to prevent unauthorized access.\n",
    "# Example of Encapsulation:\n",
    "class BankAccount:\n",
    "    def __init__(self, account_number, balance):\n",
    "        self.account_number = account_number  # Public\n",
    "        self.__balance = balance              # Private\n",
    "\n",
    "    def deposit(self, amount):\n",
    "        self.__balance += amount\n",
    "\n",
    "    def withdraw(self, amount):\n",
    "        if self.__balance >= amount:\n",
    "            self.__balance -= amount\n",
    "        else:\n",
    "            print(\"Insufficient funds\")\n",
    "\n",
    "    def get_balance(self):\n",
    "        return self.__balance\n",
    "\n",
    "# Example usage\n",
    "account = BankAccount(\"12345678\", 1000)\n",
    "account.deposit(500)\n",
    "print(account.get_balance())  # Output: 1500\n",
    "account.withdraw(2000)        # Output: Insufficient funds\n",
    "# In this example, __balance is a private attribute that is encapsulated within the BankAccount class. It cannot be accessed directly from outside the class."
   ]
  },
  {
   "cell_type": "code",
   "execution_count": 5,
   "id": "9e79ab50-4da8-40c9-b37a-e76644acc612",
   "metadata": {},
   "outputs": [
    {
     "name": "stdout",
     "output_type": "stream",
     "text": [
      "Woof!\n"
     ]
    }
   ],
   "source": [
    "# Q3. What is the abc module in Python? Why is it used?\n",
    "# The abc module in Python stands for Abstract Base Classes. It provides a mechanism for defining abstract base classes, which are classes that cannot be instantiated and are meant to be subclasses. Abstract base classes define a common interface for a set of subclasses. They are used to enforce certain methods to be implemented in the derived classes.\n",
    "\n",
    "# The abc module is used to achieve abstraction in Python by allowing you to define abstract methods that must be implemented by any concrete subclass.\n",
    "\n",
    "# Example:\n",
    "from abc import ABC, abstractmethod\n",
    "\n",
    "class Animal(ABC):\n",
    "    @abstractmethod\n",
    "    def sound(self):\n",
    "        pass\n",
    "\n",
    "class Dog(Animal):\n",
    "    def sound(self):\n",
    "        return \"Woof!\"\n",
    "\n",
    "# Example usage\n",
    "dog = Dog()\n",
    "print(dog.sound())  # Output: Woof!\n",
    "# In this example, Animal is an abstract base class with an abstract method sound(). The Dog class implements the sound() method, allowing it to be instantiated."
   ]
  },
  {
   "cell_type": "code",
   "execution_count": null,
   "id": "0ae016ab-82a5-436c-b5ec-619ab21e9f64",
   "metadata": {},
   "outputs": [],
   "source": [
    "Q4. How can we achieve data abstraction?\n",
    "Data abstraction in Python can be achieved by using abstract classes and methods, which allow you to define methods that must be implemented by subclasses, without providing the method's implementation in the base class. This hides the internal implementation and only exposes the interface to the user.\n",
    "\n",
    "Additionally, encapsulation can also contribute to data abstraction by restricting access to certain data and methods within a class.\n",
    "\n",
    "Steps to achieve data abstraction:\n",
    "\n",
    "Define an abstract base class using the abc module.\n",
    "Use the @abstractmethod decorator to define abstract methods in the base class.\n",
    "Create subclasses that inherit from the abstract base class and implement the abstract methods."
   ]
  }
 ],
 "metadata": {
  "kernelspec": {
   "display_name": "Python 3 (ipykernel)",
   "language": "python",
   "name": "python3"
  },
  "language_info": {
   "codemirror_mode": {
    "name": "ipython",
    "version": 3
   },
   "file_extension": ".py",
   "mimetype": "text/x-python",
   "name": "python",
   "nbconvert_exporter": "python",
   "pygments_lexer": "ipython3",
   "version": "3.10.8"
  }
 },
 "nbformat": 4,
 "nbformat_minor": 5
}
