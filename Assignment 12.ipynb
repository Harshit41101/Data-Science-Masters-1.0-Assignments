{
 "cells": [
  {
   "cell_type": "code",
   "execution_count": 1,
   "id": "2523999e-71af-4059-a2c6-cc59da833c55",
   "metadata": {},
   "outputs": [],
   "source": [
    "# Q1. Which function is used to open a file? What are the different modes of opening a file? Explain each mode of file opening.\n",
    "# The open() function is used to open a file in Python. It requires at least one argument: the name of the file. You can also specify the mode in which the file should be opened.\n",
    "\n",
    "# Here are the different modes of opening a file:\n",
    "\n",
    "# r (Read Mode):\n",
    "\n",
    "# Opens the file for reading (default mode).\n",
    "# The file pointer is placed at the beginning of the file.\n",
    "# If the file does not exist, it raises a FileNotFoundError.\n",
    "# w (Write Mode):\n",
    "\n",
    "# Opens the file for writing.\n",
    "# If the file exists, it truncates the file (i.e., deletes the existing content).\n",
    "# If the file does not exist, it creates a new file.\n",
    "# a (Append Mode):\n",
    "\n",
    "# Opens the file for appending.\n",
    "# The file pointer is placed at the end of the file if it exists.\n",
    "# If the file does not exist, it creates a new file.\n",
    "# The existing content is not deleted, and new data is added to the end of the file.\n",
    "# x (Exclusive Creation Mode):\n",
    "\n",
    "# Opens the file for exclusive creation.\n",
    "# If the file exists, the operation fails with a FileExistsError.\n",
    "# If the file does not exist, it creates a new file.\n",
    "# b (Binary Mode):\n",
    "\n",
    "# Opens the file in binary mode.\n",
    "# This mode is used when working with binary files like images, audio files, etc.\n",
    "# It can be combined with other modes (e.g., rb, wb).\n",
    "# t (Text Mode):\n",
    "\n",
    "# Opens the file in text mode (default mode).\n",
    "# It can be combined with other modes (e.g., rt, wt).\n",
    "# This mode is used when working with text files.\n",
    "# + (Read and Write Mode):\n",
    "\n",
    "# Opens the file for both reading and writing.\n",
    "# It can be combined with other modes (e.g., r+, w+, a+).\n",
    "# r+: Read and write (no truncation, file must exist).\n",
    "# w+: Write and read (truncates the file).\n",
    "# a+: Append and read (file pointer at the end, no truncation)."
   ]
  },
  {
   "cell_type": "code",
   "execution_count": 2,
   "id": "83582905-fb63-4545-8461-eaee7d63dc44",
   "metadata": {},
   "outputs": [],
   "source": [
    "# Q2. Why is the close() function used? Why is it important to close a file?\n",
    "# The close() function is used to close an open file in Python. It is important to close a file for the following reasons:\n",
    "\n",
    "# Resource Management:\n",
    "\n",
    "# When a file is opened, resources like file descriptors are allocated by the operating system. Closing the file frees these resources.\n",
    "# Prevent Data Loss:\n",
    "\n",
    "# Data written to a file is often buffered. Closing the file ensures that all data is flushed from the buffer and written to the disk.\n",
    "# Avoid File Corruption:\n",
    "\n",
    "# If a file is not closed properly, especially after writing, it might lead to file corruption or incomplete writes.\n",
    "# File Locking:\n",
    "\n",
    "# Some files may be locked when opened, preventing other programs or processes from accessing them. Closing the file releases the lock."
   ]
  },
  {
   "cell_type": "code",
   "execution_count": 3,
   "id": "cd02ff81-03ef-42bf-9556-d4c699a9f724",
   "metadata": {},
   "outputs": [
    {
     "name": "stdout",
     "output_type": "stream",
     "text": [
      "I want to become a Data Scientist\n"
     ]
    }
   ],
   "source": [
    "# Q3. Write a Python program to create a text file. Write \"I want to become a Data Scientist\" in that file. Then close the file. Open this file and read the content of the file.\n",
    "# Writing to the file\n",
    "with open(\"career_goals.txt\", \"w\") as file:\n",
    "    file.write(\"I want to become a Data Scientist\")\n",
    "\n",
    "# Reading the file\n",
    "with open(\"career_goals.txt\", \"r\") as file:\n",
    "    content = file.read()\n",
    "\n",
    "print(content)\n"
   ]
  },
  {
   "cell_type": "code",
   "execution_count": 5,
   "id": "1157abf9-fc3e-4461-ab59-e8967bc15fa4",
   "metadata": {},
   "outputs": [
    {
     "name": "stdout",
     "output_type": "stream",
     "text": [
      "Using read():\n",
      "Hello, World!\n",
      "This is a test file.\n",
      "It has multiple lines.\n",
      "\n",
      "\n",
      "Using readline():\n",
      "Hello, World!\n",
      "This is a test file.\n",
      "\n",
      "Using readlines():\n",
      "['Hello, World!\\n', 'This is a test file.\\n', 'It has multiple lines.\\n']\n"
     ]
    }
   ],
   "source": [
    "# Q4. Explain the following with Python code: read(), readline(), and readlines().\n",
    "# read(): Reads the entire content of the file as a single string.\n",
    "\n",
    "# readline(): Reads a single line from the file and moves the file pointer to the next line.\n",
    "\n",
    "# readlines(): Reads all the lines in the file and returns them as a list of strings, where each string is a line.\n",
    "\n",
    "# Example:\n",
    "\n",
    "# Suppose we have a file example.txt with the following content:\n",
    "# Hello, World!\n",
    "# This is a test file.\n",
    "# It has multiple lines.\n",
    "\n",
    "with open(\"example.txt\", \"r\") as file:\n",
    "    # Using read()\n",
    "    content = file.read()\n",
    "    print(\"Using read():\")\n",
    "    print(content)\n",
    "    file.seek(0)  # Reset the file pointer to the beginning\n",
    "\n",
    "    # Using readline()\n",
    "    line = file.readline()\n",
    "    print(\"\\nUsing readline():\")\n",
    "    print(line.strip())\n",
    "    line = file.readline()\n",
    "    print(line.strip())\n",
    "\n",
    "    # Using readlines()\n",
    "    file.seek(0)  # Reset the file pointer to the beginning\n",
    "    lines = file.readlines()\n",
    "    print(\"\\nUsing readlines():\")\n",
    "    print(lines)\n"
   ]
  },
  {
   "cell_type": "code",
   "execution_count": 6,
   "id": "4787d6e8-0ac2-4cd4-8c33-c494bfd98642",
   "metadata": {},
   "outputs": [
    {
     "name": "stdout",
     "output_type": "stream",
     "text": [
      "Hello, World!\n",
      "This is a test file.\n",
      "It has multiple lines.\n",
      "\n"
     ]
    }
   ],
   "source": [
    "# Q5. Explain why the with statement is used with open(). What is the advantage of using with statement and open() together?\n",
    "# The with statement is used with open() to ensure that the file is properly closed after its suite finishes, even if an exception is raised. It simplifies the code and makes it more readable.\n",
    "\n",
    "# Advantages of using with statement:\n",
    "\n",
    "# Automatic Resource Management:\n",
    "\n",
    "# The with statement automatically closes the file when the block inside the with statement is exited, ensuring that resources are managed properly.\n",
    "# Exception Handling:\n",
    "\n",
    "# If an exception occurs within the with block, the file is still closed properly.\n",
    "# Cleaner Code:\n",
    "\n",
    "# The with statement reduces the need for explicit calls to close(), leading to cleaner and more concise code.\n",
    "# Example:\n",
    "with open(\"example.txt\", \"r\") as file:\n",
    "    content = file.read()\n",
    "    print(content)\n",
    "# No need to call file.close() here, it's handled automatically\n"
   ]
  },
  {
   "cell_type": "code",
   "execution_count": 7,
   "id": "ee244816-d0ff-4810-bc1d-3a042a088d3e",
   "metadata": {},
   "outputs": [],
   "source": [
    "# Q6. Explain the write() and writelines() functions. Give a suitable example.\n",
    "# write(): Writes a single string to the file. It doesn't add a newline character unless you explicitly include it.\n",
    "\n",
    "# writelines(): Writes a list of strings to the file. It doesn't add newline characters between the strings unless they are included in the strings themselves.\n",
    "\n",
    "# Example:\n",
    "# Using write()\n",
    "with open(\"example_write.txt\", \"w\") as file:\n",
    "    file.write(\"Hello, World!\\n\")\n",
    "    file.write(\"This is a new line.\")\n",
    "\n",
    "# Using writelines()\n",
    "lines = [\"First line.\\n\", \"Second line.\\n\", \"Third line.\\n\"]\n",
    "with open(\"example_writelines.txt\", \"w\") as file:\n",
    "    file.writelines(lines)\n",
    "    \n",
    "# In this example:\n",
    "\n",
    "# The write() method writes individual strings to the file, and you have to manually add \\n for new lines.\n",
    "# The writelines() method takes a list of strings and writes them all to the file in sequence."
   ]
  },
  {
   "cell_type": "code",
   "execution_count": null,
   "id": "7ef06e99-1302-4d6a-bac4-1f5c46ee10e7",
   "metadata": {},
   "outputs": [],
   "source": []
  }
 ],
 "metadata": {
  "kernelspec": {
   "display_name": "Python 3 (ipykernel)",
   "language": "python",
   "name": "python3"
  },
  "language_info": {
   "codemirror_mode": {
    "name": "ipython",
    "version": 3
   },
   "file_extension": ".py",
   "mimetype": "text/x-python",
   "name": "python",
   "nbconvert_exporter": "python",
   "pygments_lexer": "ipython3",
   "version": "3.10.8"
  }
 },
 "nbformat": 4,
 "nbformat_minor": 5
}
